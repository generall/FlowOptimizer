{
 "cells": [
  {
   "cell_type": "code",
   "execution_count": 4,
   "metadata": {
    "collapsed": true
   },
   "outputs": [],
   "source": [
    "import numpy as np\n",
    "import scipy.sparse.linalg as slg"
   ]
  },
  {
   "cell_type": "markdown",
   "metadata": {},
   "source": [
    "Solving multistate sequence optomization problem.\n",
    "\n",
    "\n",
    "Given:\n",
    "\n",
    "Number of sequences of states with weights. Example:\n",
    "\n",
    "```\n",
    "[A:0.5, B:0.3] -> [C:0.1, A:3.0] -> [B:1.0, C:0.5]\n",
    "\n",
    "[A:0.3, B:0.6] -> [C:0.2, A:2.0] -> [B:0.4, C:0.7]\n",
    "```\n",
    "\n",
    "Output:\n",
    "\n",
    "Matrix of transition weights:\n",
    "\n",
    "$W = \\{w_{X \\rightarrow Y}\\}$"
   ]
  },
  {
   "cell_type": "code",
   "execution_count": 25,
   "metadata": {
    "collapsed": false
   },
   "outputs": [],
   "source": [
    "X1 = np.matrix([\n",
    "    [1,  0,  0,   0,   0  ], # init\n",
    "    [0,  1,  0,   0,   0  ], # A\n",
    "    [0,  0,  0.5, 0.5, 1  ], # B\n",
    "    [0,  0,  0.5, 1,   0.5]  # C\n",
    "])\n",
    "\n",
    "X2 = np.matrix([\n",
    "    [1,  0,  0,   0,   0   ], # init\n",
    "    [0,  1,  0,   0,   0   ], # A\n",
    "    [0,  0,  0.6, 0.55, 1  ], # B\n",
    "    [0,  0,  0.4, 0.95, 0.5]  # C\n",
    "])\n",
    "\n",
    "Xs = [X1, X2]"
   ]
  },
  {
   "cell_type": "code",
   "execution_count": 15,
   "metadata": {
    "collapsed": false
   },
   "outputs": [],
   "source": [
    "def get_coef(xi, derive_point, coef_point):\n",
    "    second = coef_point\n",
    "    first = derive_point\n",
    "    return np.dot(xi[second], xi[first].transpose())[0,0] * 2\n",
    "\n",
    "def get_B(xi, x, dp):\n",
    "    return 2 * np.dot(xi[dp[0]], x[dp[1]].transpose())[0,0]"
   ]
  },
  {
   "cell_type": "markdown",
   "metadata": {},
   "source": [
    "$\\sum_{X \\in Train} || X_{init} \\times W^T - X || \\rightarrow min $"
   ]
  },
  {
   "cell_type": "code",
   "execution_count": 22,
   "metadata": {
    "collapsed": false
   },
   "outputs": [],
   "source": [
    "def find_matrixes(xi, x):\n",
    "    N = xi.shape[0]\n",
    "    coefs = np.zeros([N,N])\n",
    "    Bs =  np.zeros([N,N])\n",
    "    for i1 in range(0,N):\n",
    "        for i2 in range(0,N):\n",
    "            coefs[i1,i2] = get_coef(xi, i1, i2)\n",
    "            Bs[i1,i2] = get_B(xi, x, (i2, i1))\n",
    "            #print((i2, i1))\n",
    "    \n",
    "    return (coefs, Bs)\n",
    "    \n",
    "    #Bs[eq_num] = get_B(xi, x, (i,j))\n",
    "    #print(coefs)\n",
    "    #print(Bs)\n",
    "def calc_weights(coefs, Bs):\n",
    "    N = Bs.shape[0]\n",
    "    W = []\n",
    "    for i in range(0, N):\n",
    "        W.append(np.linalg.solve(coefs, Bs[i]))#slg.spsolve(coefs, Bs)\n",
    "    W = np.matrix(W).transpose()\n",
    "    #print(W)\n",
    "    return W\n",
    "\n",
    "def learn_weights(Xs):\n",
    "    N = Xs[0].shape[0]\n",
    "    coefs = np.zeros([N,N])\n",
    "    Bs =  np.zeros([N,N])\n",
    "    for X in Xs:\n",
    "        xi = X[:,:-1]\n",
    "        x = X[:,1:]\n",
    "        c, b = find_matrixes(xi, x)\n",
    "        coefs += c\n",
    "        Bs += b\n",
    "    return calc_weights(coefs, Bs)\n",
    "        "
   ]
  },
  {
   "cell_type": "code",
   "execution_count": 32,
   "metadata": {
    "collapsed": false
   },
   "outputs": [
    {
     "data": {
      "text/plain": [
       "matrix([[ 0.        ,  1.        ,  0.        ,  0.        ],\n",
       "        [ 0.        ,  0.        ,  0.55      ,  0.45      ],\n",
       "        [ 0.        ,  0.        ,  0.2723869 ,  2.20343214],\n",
       "        [ 0.        ,  0.        ,  0.86833073, -0.63900156]])"
      ]
     },
     "execution_count": 32,
     "metadata": {},
     "output_type": "execute_result"
    }
   ],
   "source": [
    "W = learn_weights(Xs)\n",
    "W"
   ]
  },
  {
   "cell_type": "code",
   "execution_count": 31,
   "metadata": {
    "collapsed": false
   },
   "outputs": [
    {
     "name": "stdout",
     "output_type": "stream",
     "text": [
      "error: 0.0905226209048362\n"
     ]
    }
   ],
   "source": [
    "s = 0\n",
    "for X in Xs:\n",
    "    xi = X[:,:-1]\n",
    "    x = X[:,1:]\n",
    "    err = np.dot(W.transpose(), xi) - x\n",
    "    s += np.multiply(err, err).sum()\n",
    "print(\"error: {0}\".format(s))"
   ]
  }
 ],
 "metadata": {
  "kernelspec": {
   "display_name": "Python [conda root]",
   "language": "python",
   "name": "conda-root-py"
  },
  "language_info": {
   "codemirror_mode": {
    "name": "ipython",
    "version": 3
   },
   "file_extension": ".py",
   "mimetype": "text/x-python",
   "name": "python",
   "nbconvert_exporter": "python",
   "pygments_lexer": "ipython3",
   "version": "3.5.2"
  }
 },
 "nbformat": 4,
 "nbformat_minor": 2
}
